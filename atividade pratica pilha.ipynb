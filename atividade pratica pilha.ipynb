{
 "cells": [
  {
   "cell_type": "markdown",
   "metadata": {},
   "source": [
    "ATIVIDADE PRATICA PILHA"
   ]
  },
  {
   "cell_type": "code",
   "execution_count": 1,
   "metadata": {},
   "outputs": [],
   "source": [
    "class Pilha:\n",
    "    def __init__(self):\n",
    "        self.itens = []\n",
    "\n",
    "    def empilhar(self, item):\n",
    "        self.itens.append(item)\n",
    "\n",
    "    def desempilhar(self):\n",
    "        if not self.vazia():\n",
    "            return self.itens.pop()\n",
    "        else:\n",
    "            return None\n",
    "\n",
    "    def vazia(self):\n",
    "        return len(self.itens) == 0\n",
    "\n",
    "def inverter_string(string):\n",
    "    pilha = Pilha()\n",
    "    # Empilhar cada caractere da string\n",
    "    for char in string:\n",
    "        pilha.empilhar(char)\n",
    "\n",
    "    # Desempilhar e imprimir os caracteres para obter a string invertida\n",
    "    inverted_string = \"\"\n",
    "    while not pilha.vazia():\n",
    "        inverted_string += pilha.desempilhar()\n",
    "\n",
    "    return inverted_string\n",
    "\n",
    "# Função principal para testar o programa\n",
    "def main():\n",
    "    string = input(\"123: \")\n",
    "    string_invertida = inverter_string(string)\n",
    "    print(\"radar:\", string_invertida)\n",
    "\n",
    "if __name__ == \"__main__\":\n",
    "    main()\n"
   ]
  }
 ],
 "metadata": {
  "kernelspec": {
   "display_name": "Python 3",
   "language": "python",
   "name": "python3"
  },
  "language_info": {
   "codemirror_mode": {
    "name": "ipython",
    "version": 3
   },
   "file_extension": ".py",
   "mimetype": "text/x-python",
   "name": "python",
   "nbconvert_exporter": "python",
   "pygments_lexer": "ipython3",
   "version": "3.12.2"
  }
 },
 "nbformat": 4,
 "nbformat_minor": 2
}
