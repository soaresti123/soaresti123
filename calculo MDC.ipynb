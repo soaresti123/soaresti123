{
 "cells": [
  {
   "cell_type": "markdown",
   "metadata": {},
   "source": [
    "implementaçao do MDC"
   ]
  },
  {
   "cell_type": "code",
   "execution_count": 2,
   "metadata": {},
   "outputs": [
    {
     "name": "stdout",
     "output_type": "stream",
     "text": [
      "Versão Recursiva:\n",
      "O MDC de 56 e 98 é: 14\n",
      "Versão Iterativa:\n",
      "O MDC de 56 e 98 é: 14\n"
     ]
    }
   ],
   "source": [
    "# Algoritmo de Euclides - Versão Recursiva\n",
    "def euclidean_gcd_recursive(a, b):\n",
    "    if b == 0:\n",
    "        return a\n",
    "    else:\n",
    "        return euclidean_gcd_recursive(b, a % b)\n",
    "\n",
    "# Algoritmo de Euclides - Versão Iterativa\n",
    "def euclidean_gcd_iterative(a, b):\n",
    "    while b != 0:\n",
    "        a, b = b, a % b\n",
    "    return a\n",
    "\n",
    "# Exemplo de uso\n",
    "x = 56\n",
    "y = 98\n",
    "\n",
    "print(\"Versão Recursiva:\")\n",
    "print(f\"O MDC de {x} e {y} é: {euclidean_gcd_recursive(x, y)}\")\n",
    "\n",
    "print(\"Versão Iterativa:\")\n",
    "print(f\"O MDC de {x} e {y} é: {euclidean_gcd_iterative(x, y)}\")\n"
   ]
  }
 ],
 "metadata": {
  "kernelspec": {
   "display_name": "Python 3",
   "language": "python",
   "name": "python3"
  },
  "language_info": {
   "codemirror_mode": {
    "name": "ipython",
    "version": 3
   },
   "file_extension": ".py",
   "mimetype": "text/x-python",
   "name": "python",
   "nbconvert_exporter": "python",
   "pygments_lexer": "ipython3",
   "version": "3.12.3"
  }
 },
 "nbformat": 4,
 "nbformat_minor": 2
}
