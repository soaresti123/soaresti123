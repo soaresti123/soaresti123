{
 "cells": [
  {
   "cell_type": "markdown",
   "metadata": {},
   "source": [
    "ATIVIDADE PRATICA FILA"
   ]
  },
  {
   "cell_type": "code",
   "execution_count": 1,
   "metadata": {},
   "outputs": [
    {
     "name": "stdout",
     "output_type": "stream",
     "text": [
      "Fila:\n",
      "1 2 3 \n",
      "Primeiro elemento (peek): 1\n",
      "Desenfileirando...\n",
      "1\n",
      "Fila após desenfileirar:\n",
      "2 3 \n"
     ]
    }
   ],
   "source": [
    "class No:\n",
    "    def __init__(self, valor):\n",
    "        self.valor = valor\n",
    "        self.proximo = None\n",
    "\n",
    "class Fila:\n",
    "    def __init__(self):\n",
    "        self.primeiro = None\n",
    "        self.ultimo = None\n",
    "\n",
    "    def enfileirar(self, valor):\n",
    "        novo_no = No(valor)\n",
    "        if self.ultimo is None:\n",
    "            self.primeiro = novo_no\n",
    "        else:\n",
    "            self.ultimo.proximo = novo_no\n",
    "        self.ultimo = novo_no\n",
    "\n",
    "    def desenfileirar(self):\n",
    "        if self.primeiro is None:\n",
    "            return None\n",
    "        valor = self.primeiro.valor\n",
    "        self.primeiro = self.primeiro.proximo\n",
    "        if self.primeiro is None:\n",
    "            self.ultimo = None\n",
    "        return valor\n",
    "\n",
    "    def peek(self):\n",
    "        if self.primeiro is None:\n",
    "            return None\n",
    "        return self.primeiro.valor\n",
    "\n",
    "    def mostrar(self):\n",
    "        atual = self.primeiro\n",
    "        while atual:\n",
    "            print(atual.valor, end=\" \")\n",
    "            atual = atual.proximo\n",
    "        print()\n",
    "\n",
    "# Exemplo de uso\n",
    "fila = Fila()\n",
    "fila.enfileirar(1)\n",
    "fila.enfileirar(2)\n",
    "fila.enfileirar(3)\n",
    "\n",
    "print(\"Fila:\")\n",
    "fila.mostrar()\n",
    "\n",
    "print(\"Primeiro elemento (peek):\", fila.peek())\n",
    "\n",
    "print(\"Desenfileirando...\")\n",
    "print(fila.desenfileirar())\n",
    "\n",
    "print(\"Fila após desenfileirar:\")\n",
    "fila.mostrar()\n"
   ]
  }
 ],
 "metadata": {
  "kernelspec": {
   "display_name": "Python 3",
   "language": "python",
   "name": "python3"
  },
  "language_info": {
   "codemirror_mode": {
    "name": "ipython",
    "version": 3
   },
   "file_extension": ".py",
   "mimetype": "text/x-python",
   "name": "python",
   "nbconvert_exporter": "python",
   "pygments_lexer": "ipython3",
   "version": "3.12.2"
  }
 },
 "nbformat": 4,
 "nbformat_minor": 2
}
