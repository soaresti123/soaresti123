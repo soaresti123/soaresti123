{
 "cells": [
  {
   "cell_type": "markdown",
   "metadata": {},
   "source": [
    "PILHA NA PRATICA"
   ]
  },
  {
   "cell_type": "code",
   "execution_count": 1,
   "metadata": {},
   "outputs": [],
   "source": [
    "class Pilha:\n",
    "    def __init__(self):\n",
    "        self.items = []\n",
    "\n",
    "    def esta_vazia(self):\n",
    "        return self.items == []\n",
    "\n",
    "    def push(self, item):\n",
    "        self.items.append(item)\n",
    "\n",
    "    def pop(self):\n",
    "        return self.items.pop()\n",
    "\n",
    "    def peek(self):\n",
    "        return self.items[-1]\n",
    "\n",
    "def inverter_string(string):\n",
    "    pilha = Pilha()\n",
    "    # Inserir cada caractere da string na pilha\n",
    "    for caractere in string:\n",
    "        pilha.push(caractere)\n",
    "    \n",
    "    string_invertida = \"\"\n",
    "    # Remover e imprimir os caracteres em ordem reversa\n",
    "    while not pilha.esta_vazia():\n",
    "        string_invertida += pilha.pop()\n",
    "\n",
    "    return string_invertida\n",
    "\n",
    "\n",
    "entrada = input(\"Digite uma string: \")\n",
    "print(\"String invertida:\", inverter_string(entrada))\n"
   ]
  }
 ],
 "metadata": {
  "kernelspec": {
   "display_name": "Python 3",
   "language": "python",
   "name": "python3"
  },
  "language_info": {
   "codemirror_mode": {
    "name": "ipython",
    "version": 3
   },
   "file_extension": ".py",
   "mimetype": "text/x-python",
   "name": "python",
   "nbconvert_exporter": "python",
   "pygments_lexer": "ipython3",
   "version": "3.12.2"
  }
 },
 "nbformat": 4,
 "nbformat_minor": 2
}
