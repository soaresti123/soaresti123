{
 "cells": [
  {
   "cell_type": "markdown",
   "metadata": {},
   "source": [
    "LISTA ENCADEADA"
   ]
  },
  {
   "cell_type": "code",
   "execution_count": 1,
   "metadata": {},
   "outputs": [
    {
     "name": "stdout",
     "output_type": "stream",
     "text": [
      "Lista original:\n",
      "1 -> 2 -> 3 -> 2 -> 4 -> 3 -> None\n",
      "Lista após remoção de duplicatas:\n",
      "1 -> 2 -> 3 -> 4 -> None\n"
     ]
    }
   ],
   "source": [
    "class Node:\n",
    "    def __init__(self, data):\n",
    "        self.data = data\n",
    "        self.next = None\n",
    "\n",
    "class LinkedList:\n",
    "    def __init__(self):\n",
    "        self.head = None\n",
    "\n",
    "    def inserir(self, data):\n",
    "        if not self.head:\n",
    "            self.head = Node(data)\n",
    "        else:\n",
    "            current = self.head\n",
    "            while current.next:\n",
    "                current = current.next\n",
    "            current.next = Node(data)\n",
    "\n",
    "    def exibir_lista(self):\n",
    "        current = self.head\n",
    "        while current:\n",
    "            print(current.data, end=' -> ')\n",
    "            current = current.next\n",
    "        print(\"None\")\n",
    "\n",
    "    def remover_duplicados(self):\n",
    "        if not self.head:\n",
    "            return\n",
    "\n",
    "        current = self.head\n",
    "        while current:\n",
    "            runner = current\n",
    "            while runner.next:\n",
    "                if runner.next.data == current.data:\n",
    "                    runner.next = runner.next.next\n",
    "                else:\n",
    "                    runner = runner.next\n",
    "            current = current.next\n",
    "\n",
    "\n",
    "# Teste\n",
    "lista = LinkedList()\n",
    "lista.inserir(1)\n",
    "lista.inserir(2)\n",
    "lista.inserir(3)\n",
    "lista.inserir(2)\n",
    "lista.inserir(4)\n",
    "lista.inserir(3)\n",
    "\n",
    "print(\"Lista original:\")\n",
    "lista.exibir_lista()\n",
    "\n",
    "lista.remover_duplicados()\n",
    "\n",
    "print(\"Lista após remoção de duplicatas:\")\n",
    "lista.exibir_lista()\n"
   ]
  }
 ],
 "metadata": {
  "kernelspec": {
   "display_name": "Python 3",
   "language": "python",
   "name": "python3"
  },
  "language_info": {
   "codemirror_mode": {
    "name": "ipython",
    "version": 3
   },
   "file_extension": ".py",
   "mimetype": "text/x-python",
   "name": "python",
   "nbconvert_exporter": "python",
   "pygments_lexer": "ipython3",
   "version": "3.11.8"
  }
 },
 "nbformat": 4,
 "nbformat_minor": 2
}
