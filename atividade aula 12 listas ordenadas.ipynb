{
 "cells": [
  {
   "cell_type": "markdown",
   "metadata": {},
   "source": [
    "implementaçao listas ordenadas exercicios praticos"
   ]
  },
  {
   "cell_type": "code",
   "execution_count": 2,
   "metadata": {},
   "outputs": [
    {
     "name": "stdout",
     "output_type": "stream",
     "text": [
      "Lista Ordenada:\n",
      "Monitor: R$451.00\n",
      "Mouse: R$35.00\n",
      "Teclado: R$90.00\n"
     ]
    }
   ],
   "source": [
    "class Item:\n",
    "    def __init__(self, descricao, preco):\n",
    "        self.descricao = descricao\n",
    "        self.preco = preco\n",
    "\n",
    "class OrdenedList:\n",
    "    def __init__(self):\n",
    "        self.items = []\n",
    "\n",
    "    def add(self, item):\n",
    "        # Adiciona um item à lista mantendo a ordem alfabética pela descrição\n",
    "        if not isinstance(item, Item):\n",
    "            raise ValueError(\"O objeto adicionado deve ser uma instância da classe Item\")\n",
    "        \n",
    "        index_to_insert = 0\n",
    "        while (index_to_insert < len(self.items) and \n",
    "               self.items[index_to_insert].descricao < item.descricao):\n",
    "            index_to_insert += 1\n",
    "        \n",
    "        self.items.insert(index_to_insert, item)\n",
    "\n",
    "    def __str__(self):\n",
    "        # Retorna uma representação da lista como string\n",
    "        return '\\n'.join(f'{item.descricao}: R${item.preco:.2f}' for item in self.items)\n",
    "\n",
    "\n",
    "# Criando alguns itens\n",
    "item1 = Item(\"Monitor\", 451.00)\n",
    "item2 = Item(\"Teclado\", 90.00)\n",
    "item3 = Item(\"Mouse\", 35.00)\n",
    "\n",
    "# Criando a lista ordenada\n",
    "ordered_list = OrdenedList()\n",
    "\n",
    "# Adicionando os itens à lista\n",
    "ordered_list.add(item1)\n",
    "ordered_list.add(item2)\n",
    "ordered_list.add(item3)\n",
    "\n",
    "# Mostrando a lista ordenada\n",
    "print(\"Lista Ordenada:\")\n",
    "print(ordered_list)\n"
   ]
  }
 ],
 "metadata": {
  "kernelspec": {
   "display_name": "Python 3",
   "language": "python",
   "name": "python3"
  },
  "language_info": {
   "codemirror_mode": {
    "name": "ipython",
    "version": 3
   },
   "file_extension": ".py",
   "mimetype": "text/x-python",
   "name": "python",
   "nbconvert_exporter": "python",
   "pygments_lexer": "ipython3",
   "version": "3.12.2"
  }
 },
 "nbformat": 4,
 "nbformat_minor": 2
}
